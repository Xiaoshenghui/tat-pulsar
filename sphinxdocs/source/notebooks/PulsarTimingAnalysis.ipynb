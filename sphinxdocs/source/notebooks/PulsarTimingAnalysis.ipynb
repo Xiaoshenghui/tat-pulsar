{
 "cells": [
  {
   "cell_type": "markdown",
   "id": "683e5a76-28ca-4629-955b-cffc0ec12e5c",
   "metadata": {},
   "source": [
    "# Pulsar Timing Analysis"
   ]
  },
  {
   "cell_type": "markdown",
   "id": "c215d70e-e2a1-4c80-b59d-dc54e9e59721",
   "metadata": {},
   "source": [
    "## Search the best frequency"
   ]
  },
  {
   "cell_type": "markdown",
   "id": "da8e28ff-c98f-44d4-a895-8dfbc05eff11",
   "metadata": {},
   "source": [
    "## "
   ]
  }
 ],
 "metadata": {
  "kernelspec": {
   "display_name": "Python 3 (ipykernel)",
   "language": "python",
   "name": "python3"
  },
  "language_info": {
   "codemirror_mode": {
    "name": "ipython",
    "version": 3
   },
   "file_extension": ".py",
   "mimetype": "text/x-python",
   "name": "python",
   "nbconvert_exporter": "python",
   "pygments_lexer": "ipython3",
   "version": "3.7.10"
  }
 },
 "nbformat": 4,
 "nbformat_minor": 5
}
